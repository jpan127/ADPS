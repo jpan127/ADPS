{
 "cells": [
  {
   "cell_type": "code",
   "execution_count": 1,
   "metadata": {
    "collapsed": true
   },
   "outputs": [],
   "source": [
    "import glob\n",
    "import sys\n",
    "from scipy import ndimage\n",
    "from PIL import Image\n",
    "import os, os.path\n",
    "import numpy as np\n",
    "import cv2\n",
    "import math\n",
    "\n",
    "import matplotlib.pyplot as plt\n",
    "\n",
    "def auto_canny(image, sigma=0.33):\n",
    "    # compute the median of the single channel pixel intensities\n",
    "    v = np.median(image)\n",
    " \n",
    "    # apply automatic Canny edge detection using the computed median\n",
    "    lower = int(max(0, (1.0 - sigma) * v))\n",
    "    upper = int(min(255, (1.0 + sigma) * v))\n",
    "    edged = cv2.Canny(image, lower, upper)\n",
    " \n",
    "    # return the edged image\n",
    "    return edged"
   ]
  },
  {
   "cell_type": "code",
   "execution_count": 2,
   "metadata": {
    "collapsed": true
   },
   "outputs": [],
   "source": [
    "# Import the images\n",
    "\n",
    "image_list = []\n",
    "image_data = []\n",
    "for filename in glob.glob('Sidewalk/*.jpg'):\n",
    "    im=Image.open(filename)\n",
    "    imcv=cv2.imread(filename)\n",
    "    image_list.append(imcv)\n",
    "    image_data.append(list(im.getdata()));"
   ]
  },
  {
   "cell_type": "code",
   "execution_count": 3,
   "metadata": {
    "collapsed": true
   },
   "outputs": [],
   "source": [
    "# im = image_list[0].convert('RGB')\n",
    "# plt.imshow(im)\n",
    "# plt.show()"
   ]
  },
  {
   "cell_type": "code",
   "execution_count": null,
   "metadata": {
    "collapsed": true
   },
   "outputs": [],
   "source": [
    "img = image_list[0]\n",
    "gray = cv2.cvtColor(img,cv2.COLOR_BGR2GRAY)\n",
    "edges = cv2.Canny(gray,50,150,apertureSize = 3)\n",
    "minLineLength = 1\n",
    "maxLineGap = 10\n",
    "# lines = cv2.HoughLinesP(edges,1,np.pi/180,100,np.array([]),minLineLength,maxLineGap)\n",
    "# for x1,y1,x2,y2 in lines[0]:\n",
    "#         cv2.line(img,(x1,y1),(x2,y2),(0,255,0),2)\n",
    "# cv2.imwrite('houghlines5.jpg',img)\n",
    "# lines"
   ]
  },
  {
   "cell_type": "code",
   "execution_count": null,
   "metadata": {
    "collapsed": true
   },
   "outputs": [],
   "source": [
    "lower_red = np.array([30,150,50])\n",
    "upper_red = np.array([255,255,180])\n",
    "\n",
    "# loop over the images\n",
    "for image in image_list:\n",
    "    # convert the image to grayscale, and blur it slightly\n",
    "    hsv = cv2.cvtColor(image, cv2.COLOR_BGR2HSV)\n",
    "    blurred = cv2.GaussianBlur(hsv, (3, 3), 0)\n",
    "    gray = cv2.cvtColor(blurred, cv2.COLOR_BGR2GRAY)\n",
    " \n",
    "    # apply Canny edge detection using a wide threshold, tight\n",
    "    # threshold, and automatically determined threshold\n",
    "    wide = cv2.Canny(blurred, 10, 200)\n",
    "    tight = cv2.Canny(blurred, 225, 250)\n",
    "    auto = auto_canny(blurred)\n",
    "    \n",
    "    # Generate edges via canny edge detection\n",
    "    edges = cv2.Canny(image,100,200,apertureSize = 3)\n",
    "    edges = cv2.GaussianBlur(edges, (3, 3), 0)\n",
    "    \n",
    "    \n",
    "    minLineLength = 150\n",
    "    maxLineGap = 10\n",
    "    lines = cv2.HoughLinesP(edges,1,np.pi/180,100,np.array([]),minLineLength,maxLineGap)\n",
    "    \n",
    "    for rho,theta in lines[0]:\n",
    "        a = np.cos(theta)\n",
    "        b = np.sin(theta)\n",
    "        x0 = a*rho\n",
    "        y0 = b*rho\n",
    "        x1 = int(x0 + 1000*(-b))\n",
    "        y1 = int(y0 + 1000*(a))\n",
    "        x2 = int(x0 - 1000*(-b))\n",
    "        y2 = int(y0 - 1000*(a))\n",
    "\n",
    "    cv2.line(image,(x1,y1),(x2,y2),(0,0,255),2)\n",
    "\n",
    "#     image[np.where(image == [0,0,0])] = [255,255,255]\n",
    "    # show the images\n",
    "#     mask = cv2.inRange(hsv, lower_red, upper_red)\n",
    "#     res = cv2.bitwise_and(hsv, image, mask= mask)\n",
    "#     cv2.imshow('mask',mask)\n",
    "#     cv2.imshow('res',res)\n",
    "    cv2.imshow(\"Lines\", image)\n",
    "    cv2.imshow(\"Edges\", edges)\n",
    "    cv2.imshow(\"HSV\", hsv)\n",
    "#     cv2.imshow(\"Blurred\", gray)\n",
    "#     cv2.imshow(\"Edges\", np.hstack([wide, edges])) #tight, auto\n",
    "    cv2.waitKey(0)"
   ]
  },
  {
   "cell_type": "markdown",
   "metadata": {
    "collapsed": true
   },
   "source": []
  }
 ],
 "metadata": {
  "kernelspec": {
   "display_name": "Python 3",
   "language": "python",
   "name": "python3"
  },
  "language_info": {
   "codemirror_mode": {
    "name": "ipython",
    "version": 3
   },
   "file_extension": ".py",
   "mimetype": "text/x-python",
   "name": "python",
   "nbconvert_exporter": "python",
   "pygments_lexer": "ipython3",
   "version": "3.5.4"
  }
 },
 "nbformat": 4,
 "nbformat_minor": 2
}
