{
 "cells": [
  {
   "cell_type": "code",
   "execution_count": 1,
   "metadata": {
    "collapsed": true
   },
   "outputs": [],
   "source": [
    "import glob\n",
    "import sys\n",
    "from scipy import ndimage\n",
    "from PIL import Image\n",
    "import os, os.path\n",
    "import numpy as np\n",
    "import cv2\n",
    "import math\n",
    "\n",
    "import matplotlib.pyplot as plt"
   ]
  },
  {
   "cell_type": "code",
   "execution_count": 2,
   "metadata": {
    "collapsed": true
   },
   "outputs": [],
   "source": [
    "# Import images\n",
    "image_list = []\n",
    "image_data = []\n",
    "for filename in glob.glob('Sidewalk/*.JPG'):\n",
    "    im=Image.open(filename)\n",
    "    imcv=cv2.imread(filename)\n",
    "    image_list.append(imcv)\n",
    "    image_data.append(list(im.getdata()));"
   ]
  },
  {
   "cell_type": "code",
   "execution_count": 3,
   "metadata": {
    "collapsed": true
   },
   "outputs": [],
   "source": [
    "# color regions\n",
    "HSV_data = []\n",
    "for image in image_list:\n",
    "    HSV = cv2.cvtColor(image, cv2.COLOR_RGB2HSV)\n",
    "    HSV_data.append(HSV)\n",
    "#     HLS = cv2.cvtColor(image, cv2.COLOR_RGB2HLS)\n",
    "#     GRAY = cv2.cvtColor(image, cv2.COLOR_BGR2GRAY)\n",
    "#     cv2.imshow(\"Images\", np.hstack([HSV, HLS]))\n",
    "#     cv2.imshow(\"Original\", image)\n",
    "#     cv2.waitKey(0)"
   ]
  },
  {
   "cell_type": "markdown",
   "metadata": {},
   "source": [
    "HSV would be helpful for distinguishing between the road, sidewalk, and other areas, so we'll continue with that when it comes to making a mask.\n",
    "\n",
    "Let's continue by blurring the image to see if that helps define the lines between the road and sidewalk. Almost seems counterintuitive."
   ]
  },
  {
   "cell_type": "code",
   "execution_count": 4,
   "metadata": {
    "collapsed": true
   },
   "outputs": [],
   "source": [
    "median_data = []\n",
    "\n",
    "for image in image_list:\n",
    "    BLUR = cv2.GaussianBlur(image, (3, 3), 0)\n",
    "    MEDIAN = cv2.medianBlur(image,5)\n",
    "    MEDIAN = cv2.medianBlur(MEDIAN,5)\n",
    "    median_data.append(MEDIAN)\n",
    "#     cv2.imshow(\"Blurred\", BLUR)\n",
    "#     cv2.imshow(\"Median\", MEDIAN)\n",
    "#     cv2.waitKey(0)"
   ]
  },
  {
   "cell_type": "markdown",
   "metadata": {},
   "source": [
    "Blurring the image seems to do the trick. It keeps the colors the same while reducing noise. This lets us eliminate the moss on the sidewalk and keeps the lines remain well defined.\n",
    "\n",
    "One possible problem would be a clean sidewalk with the sun directly overhead. This would result in the sidewalk lines dissapearing. The road-sidewalk distinction would remain the same.\n",
    "\n",
    "At this point we've got our data. Let's try gray scale on this to see what happens."
   ]
  },
  {
   "cell_type": "code",
   "execution_count": 5,
   "metadata": {
    "collapsed": true
   },
   "outputs": [],
   "source": [
    "# for image in median_data:\n",
    "#     GRAY = cv2.cvtColor(image, cv2.COLOR_BGR2GRAY)\n",
    "#     cv2.imshow(\"GRAY\", GRAY)\n",
    "#     cv2.waitKey(0)"
   ]
  },
  {
   "cell_type": "markdown",
   "metadata": {},
   "source": [
    "Not much unfortunately. At this point, let's try eliminating all non gray colors.\n",
    "\n",
    "First begin by defining the range of colors."
   ]
  },
  {
   "cell_type": "code",
   "execution_count": 6,
   "metadata": {
    "collapsed": true
   },
   "outputs": [],
   "source": [
    "def select_sidewalk(image):\n",
    "    # sidewalk color mask using HSV scale\n",
    "    lower = np.uint8([  0, 0,   140])\n",
    "    upper = np.uint8([179, 60, 200])\n",
    "    mask = cv2.inRange(image, lower, upper)\n",
    "    return cv2.bitwise_and(image, image, mask = mask)\n",
    "\n",
    "def select_sidewalk_dynamically(image):\n",
    "    # Get ROI:\n",
    "    height, width, channels = image.shape\n",
    "    ROI = [height-100, height, round((width/2)-80), round((width/2)+80)]\n",
    "    im1 = image[ROI[0]:ROI[1], ROI[2]:ROI[3]]\n",
    "    # Determine color range\n",
    "    lower = np.array([im1[:,:,0].min(), im1[:,:,1].min(), im1[:,:,2].min()])\n",
    "    upper = np.array([im1[:,:,0].max(), im1[:,:,1].max(), im1[:,:,2].max()])\n",
    "    # sidewalk color mask using HSV scale\n",
    "    mask = cv2.inRange(image, lower, upper)\n",
    "    return cv2.bitwise_and(image, image, mask = mask)"
   ]
  },
  {
   "cell_type": "markdown",
   "metadata": {},
   "source": [
    "... and test it out on a single image."
   ]
  },
  {
   "cell_type": "code",
   "execution_count": 7,
   "metadata": {
    "collapsed": true
   },
   "outputs": [],
   "source": [
    "# mask_test = select_sidewalk(HSV_data[0])\n",
    "# cv2.imshow(\"MASK\", mask_test)\n",
    "# cv2.imshow(\"HSV\", HSV_data[0])\n",
    "# cv2.imshow(\"Original\", image_list[0])\n",
    "# cv2.waitKey(0)"
   ]
  },
  {
   "cell_type": "markdown",
   "metadata": {},
   "source": [
    "It appears to work! But there are some gaps where the sidewalk is dirty, or it's too far and increases in saturation (warmth at vanishing points something something).\n",
    "\n",
    "So let's go ahead and use the blurred image, change the color space, and apply the filter."
   ]
  },
  {
   "cell_type": "code",
   "execution_count": 8,
   "metadata": {},
   "outputs": [],
   "source": [
    "masked_images = []\n",
    "\n",
    "# for image in median_data:\n",
    "#     mask_test = select_sidewalk(cv2.cvtColor(image, cv2.COLOR_RGB2HSV))\n",
    "#     masked_images.append(mask_test)\n",
    "#     cv2.imshow(\"MASK\", mask_test)\n",
    "#     cv2.imshow(\"Blurred\", image)\n",
    "#     cv2.waitKey(0)"
   ]
  },
  {
   "cell_type": "markdown",
   "metadata": {},
   "source": [
    "This looks great. The sidewalk and road are selected, with more of the sidewalk being selected than the road. Let's do this dynamically by selecting a ROI (region of interest) in the bottom-middle of the image. We'll extract the color ranges and then interpolate an HSV color range for the filter.\n",
    "\n",
    "First up, capturing the ROI:"
   ]
  },
  {
   "cell_type": "code",
   "execution_count": 9,
   "metadata": {},
   "outputs": [],
   "source": [
    "# height, width, channels = median_data[0].shape\n",
    "# ROI = [height-100, height, round((width/2)-80), round((width/2)+80)]\n",
    "# im1 = median_data[0][ROI[0]:ROI[1], ROI[2]:ROI[3]]\n",
    "# cv2.imshow(\"CROP\", im1)\n",
    "# cv2.imshow(\"Blurred\", median_data[0])\n",
    "# cv2.waitKey(0)\n",
    "# cv2.destroyAllWindows()\n",
    "# print(height, width, channels)\n",
    "# print(ROI[0], ROI[1], ROI[2], ROI[3])"
   ]
  },
  {
   "cell_type": "markdown",
   "metadata": {},
   "source": [
    "Now let's determine the HSV color ranges using a rudimentary min/max function on the color ranges:"
   ]
  },
  {
   "cell_type": "code",
   "execution_count": null,
   "metadata": {},
   "outputs": [],
   "source": [
    "# lower = np.array([im1[:,:,0].min(), im1[:,:,1].min(), im1[:,:,2].min()])\n",
    "# upper = np.array([im1[:,:,0].max(), im1[:,:,1].max(), im1[:,:,2].max()])\n",
    "# print(lower, upper)"
   ]
  },
  {
   "cell_type": "markdown",
   "metadata": {},
   "source": [
    "And now test it to filter the blurred sidewalk image:"
   ]
  },
  {
   "cell_type": "code",
   "execution_count": null,
   "metadata": {},
   "outputs": [],
   "source": [
    "for image in median_data:\n",
    "    mask_test = select_sidewalk_dynamically(cv2.cvtColor(image, cv2.COLOR_RGB2HSV))\n",
    "    masked_images.append(mask_test)\n",
    "    cv2.imshow(\"MASK\", mask_test)\n",
    "    cv2.imshow(\"Blurred\", image)\n",
    "    cv2.waitKey(0)"
   ]
  },
  {
   "cell_type": "markdown",
   "metadata": {},
   "source": [
    "Definitely an improvement, but there are some issues...\n",
    "\n",
    "1. If there's some debris in the ROI, it's anyones guess what's going to be selected.\n",
    "    1. Debris can be grass, leaves, anything.\n",
    "2. If the ROI is not directly on the sidewalk something else is going to be selected.\n",
    "    1. An example of this would be a curve, or a tree planted on the sidewalk.\n",
    "    2. In such a scenario a larger color range is allowed.\n",
    "\n",
    "Solutions are needed for each issue.\n",
    "\n",
    "1. Use statistics to eliminate the debris. A leaf or debris will show up as an outlier in the image dataset, and can be eliminated. Currently, only min/max is being used. That's a rudimentary algorithm at best.\n",
    "2. Use legacy data, or train the robot to only search for specific colors.\n",
    "    1. We don't want to travel on dirt, so don't look for brown.\n",
    "    2. Same for grass.\n",
    "    3. Possibly make the algorithm more robust by allowing specific colors for initial detection, then extend once a possible path has been found."
   ]
  },
  {
   "cell_type": "code",
   "execution_count": null,
   "metadata": {
    "collapsed": true
   },
   "outputs": [],
   "source": []
  }
 ],
 "metadata": {
  "kernelspec": {
   "display_name": "Python 3",
   "language": "python",
   "name": "python3"
  },
  "language_info": {
   "codemirror_mode": {
    "name": "ipython",
    "version": 3
   },
   "file_extension": ".py",
   "mimetype": "text/x-python",
   "name": "python",
   "nbconvert_exporter": "python",
   "pygments_lexer": "ipython3",
   "version": "3.5.4"
  }
 },
 "nbformat": 4,
 "nbformat_minor": 2
}
